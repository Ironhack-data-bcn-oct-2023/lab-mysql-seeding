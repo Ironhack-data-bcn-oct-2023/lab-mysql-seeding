{
 "cells": [
  {
   "cell_type": "markdown",
   "id": "f2a639e9",
   "metadata": {},
   "source": [
    "# load a `csv` file into sql"
   ]
  },
  {
   "cell_type": "markdown",
   "id": "873a6b38",
   "metadata": {},
   "source": [
    "### Import the necessary libraries"
   ]
  },
  {
   "cell_type": "code",
   "execution_count": 2,
   "id": "1fd77601",
   "metadata": {},
   "outputs": [],
   "source": [
    "import pymysql\n",
    "import sqlalchemy as alch # python -m pip install --upgrade 'sqlalchemy<2.0'\n",
    "from getpass import getpass\n",
    "import pandas as pd"
   ]
  },
  {
   "cell_type": "markdown",
   "id": "7caf48a6",
   "metadata": {},
   "source": [
    "### 1. FROM workbench: create a database with the name `shoes`"
   ]
  },
  {
   "cell_type": "code",
   "execution_count": 3,
   "id": "0da07085",
   "metadata": {},
   "outputs": [],
   "source": [
    "# :)"
   ]
  },
  {
   "cell_type": "markdown",
   "id": "5c24013b",
   "metadata": {},
   "source": [
    "### 2. Establish a connection to your database through python"
   ]
  },
  {
   "cell_type": "code",
   "execution_count": null,
   "id": "a6fdd2e2",
   "metadata": {},
   "outputs": [],
   "source": []
  },
  {
   "cell_type": "markdown",
   "id": "08f4721d",
   "metadata": {},
   "source": [
    "### 3. Load the table **into pandas as a df**: from the data folder, get the `murallas.csv` file"
   ]
  },
  {
   "cell_type": "code",
   "execution_count": null,
   "id": "f17abaa7",
   "metadata": {},
   "outputs": [],
   "source": []
  },
  {
   "cell_type": "markdown",
   "id": "6f0fd9cd",
   "metadata": {},
   "source": [
    "### 5. Drop un-wanted columns if they exist"
   ]
  },
  {
   "cell_type": "code",
   "execution_count": null,
   "id": "2bfe8b20",
   "metadata": {},
   "outputs": [],
   "source": []
  },
  {
   "cell_type": "markdown",
   "id": "98efd1d8",
   "metadata": {},
   "source": [
    "### 4. Insert the `df` into your `shoes` database on SQL: use a **pandas method**. You'll need to pass some arguments: `name` & `con`"
   ]
  },
  {
   "cell_type": "code",
   "execution_count": null,
   "id": "10a3ad53",
   "metadata": {},
   "outputs": [],
   "source": []
  },
  {
   "cell_type": "markdown",
   "id": "6dcdfeea",
   "metadata": {},
   "source": [
    "### 5. From python, query the table back and call it `queried_df`"
   ]
  },
  {
   "cell_type": "code",
   "execution_count": null,
   "id": "907f30a8",
   "metadata": {},
   "outputs": [],
   "source": []
  },
  {
   "cell_type": "markdown",
   "id": "ec8c6624",
   "metadata": {},
   "source": [
    "### 6. Does it look okay? You may wantto get rid of the index. Re-run your code with another argument to prevent that from being created"
   ]
  },
  {
   "cell_type": "code",
   "execution_count": null,
   "id": "c031234f",
   "metadata": {},
   "outputs": [],
   "source": []
  },
  {
   "cell_type": "markdown",
   "id": "097437a3",
   "metadata": {},
   "source": [
    "### 7. Now, from python, drop the database AND the table. Reminder: selecting & insertying use different methods. one uses **pandas** and the other one just the **engine**."
   ]
  },
  {
   "cell_type": "code",
   "execution_count": null,
   "id": "76e1ea29",
   "metadata": {},
   "outputs": [],
   "source": []
  },
  {
   "cell_type": "markdown",
   "id": "434c0869",
   "metadata": {},
   "source": [
    "### 8. Get your code and create a function."
   ]
  },
  {
   "cell_type": "markdown",
   "id": "e45694a0",
   "metadata": {},
   "source": [
    "`Tip`: Queries through python should be created one by one"
   ]
  },
  {
   "cell_type": "code",
   "execution_count": 4,
   "id": "1dabca9a",
   "metadata": {},
   "outputs": [],
   "source": [
    "def load_into_db (schema, table_name, df):\n",
    "    \"\"\"This function should: \n",
    "    1. Declare variables: password & connection string\n",
    "    2. Establish the connection\n",
    "    3. Run a create and a drop queries\n",
    "    4. Insert table into schema\n",
    "    5. Return some feedback: how many rows have been inserted. Retrieve the total rows from workbench\n",
    "    and format it into a string.\n",
    "\n",
    "    \"\"\"\n",
    "    pass"
   ]
  },
  {
   "cell_type": "markdown",
   "id": "1a572072",
   "metadata": {},
   "source": [
    "### 9. Try to call the function more than once. Does it work? if so, success!"
   ]
  },
  {
   "cell_type": "code",
   "execution_count": null,
   "id": "a06c0b82",
   "metadata": {},
   "outputs": [],
   "source": []
  }
 ],
 "metadata": {
  "kernelspec": {
   "display_name": "ironhack",
   "language": "python",
   "name": "ironhack"
  },
  "language_info": {
   "codemirror_mode": {
    "name": "ipython",
    "version": 3
   },
   "file_extension": ".py",
   "mimetype": "text/x-python",
   "name": "python",
   "nbconvert_exporter": "python",
   "pygments_lexer": "ipython3",
   "version": "3.8.13"
  },
  "toc": {
   "base_numbering": 1,
   "nav_menu": {},
   "number_sections": true,
   "sideBar": true,
   "skip_h1_title": false,
   "title_cell": "Table of Contents",
   "title_sidebar": "Contents",
   "toc_cell": false,
   "toc_position": {},
   "toc_section_display": true,
   "toc_window_display": false
  }
 },
 "nbformat": 4,
 "nbformat_minor": 5
}
